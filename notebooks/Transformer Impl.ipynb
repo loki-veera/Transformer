{
 "cells": [
  {
   "cell_type": "markdown",
   "id": "d9e2caaa",
   "metadata": {},
   "source": [
    "## Source:\n",
    "1.  http://nlp.seas.harvard.edu/annotated-transformer/#background\n",
    "2.  https://github.com/harvardnlp/annotated-transformer/blob/master/AnnotatedTransformer.ipynb"
   ]
  },
  {
   "cell_type": "code",
   "execution_count": 7,
   "id": "d28170bd",
   "metadata": {},
   "outputs": [],
   "source": [
    "import os\n",
    "from os.path import exists\n",
    "import math\n",
    "import copy\n",
    "import time\n",
    "\n",
    "import torch\n",
    "import torch.nn as nn\n",
    "from torch.nn.functional import log_softmax, pad\n",
    "from torch.optim.lr_scheduler import LambdaLR\n",
    "from torch.utils.data import DataLoader\n",
    "from torch.utils.data.distributed import DistributedSampler\n",
    "import torch.distributed as dist\n",
    "import torch.multiprocessing as mp\n",
    "from torch.nn.parallel import DistributedDataParallel as DDP\n",
    "from torchtext.data.functional import to_map_style_dataset\n",
    "from torchtext.vocab import build_vocab_from_iterator\n",
    "import torchtext.datasets as datasets\n",
    "\n",
    "import pandas as pd\n",
    "import altair\n",
    "import spacy\n",
    "import GPUtil\n",
    "import warnings\n",
    "import matplotlib.pyplot as plt\n",
    "import numpy as np\n",
    "\n",
    "warnings.filterwarnings(\"ignore\")\n",
    "RUN_EXAMPLES = True"
   ]
  },
  {
   "cell_type": "code",
   "execution_count": 2,
   "id": "fa89a861",
   "metadata": {},
   "outputs": [],
   "source": [
    "# Convenience helper functions\n",
    "\n",
    "def is_interactive_notebook():\n",
    "    return __name__ == \"__main__\"\n",
    "\n",
    "def show_example(fn, args=[]):\n",
    "    if __name__ == \"__main__\" and RUN_EXAMPLES:\n",
    "        return fn(*args)\n",
    "    \n",
    "def execute_example(fn, args=[]):\n",
    "    if __name__ == \"__main__\" and RUN_EXAMPLES:\n",
    "        fn(*args)\n",
    "        \n",
    "class DummyOptimizer(torch.optim.Optimizer):\n",
    "    def __init__(self):\n",
    "        self.param_groups = [{\"lr\": 0}]\n",
    "        None\n",
    "    \n",
    "    def step(self):\n",
    "        None\n",
    "        \n",
    "    def zero_grad(self, set_to_none=False):\n",
    "        None\n",
    "\n",
    "class DummyScheduler:\n",
    "    def step(self):\n",
    "        None"
   ]
  },
  {
   "cell_type": "markdown",
   "id": "e5ddae4c",
   "metadata": {},
   "source": [
    "## Model Utils"
   ]
  },
  {
   "cell_type": "code",
   "execution_count": 3,
   "id": "a9d80e53",
   "metadata": {},
   "outputs": [],
   "source": [
    "def clones(module, N):\n",
    "    \"\"\"\n",
    "    Return the N identical layers be it encoder or decoder\n",
    "    \"\"\"\n",
    "    return nn.ModuleList([copy.deepcopy(module) for _ in range(N)])\n",
    "\n",
    "class LayerNorm(nn.Module):\n",
    "    \"\"\"\n",
    "    compute the layer normalization. Pytorch function can be used here for simplicity.\n",
    "    \"\"\"\n",
    "    def __init__(self, features, eps= 1e-6):\n",
    "        super(LayerNorm, self).__init__()\n",
    "        self.a_2 = nn.Parameter(torch.ones(features))\n",
    "        self.b_2 = nn.Parameter(torch.zeros(features))\n",
    "        self.eps = eps\n",
    "        \n",
    "    def forward(self, x):\n",
    "        mean = x.mean(-1, keepdim= True)\n",
    "        std = x.std(-1, keepdim= True)\n",
    "        return self.a_2 * (x-mean)/ (std + self.eps) + self.b_2\n",
    "    \n",
    "class SubLayerConnection(nn.Module):\n",
    "    \"\"\"\n",
    "    Code for residual connections and layer norms\n",
    "    \n",
    "    \"\"\"\n",
    "    \n",
    "    def __init__(self, size, prob):\n",
    "        super(SubLayerConnection, self).__init__()\n",
    "        self.norm = LayerNorm(size)\n",
    "        self.dropout = nn.Dropout(prob)\n",
    "        \n",
    "    def forward(self, x, sub_layer):\n",
    "        return x + self.dropout(sub_layer(self.norm(x)))\n",
    "    \n",
    "def attention(query, key, value, mask=None, dropout= None):\n",
    "    d_q = query.size(-1)\n",
    "    unnorm_attention_weights = torch.matmul(query, key.transpose(-2, -1))/ math.sqrt(d_q)\n",
    "    if mask is not None:\n",
    "        scores = scores.masked_fill(mask == 0, 1e-9)\n",
    "    attention_weights = scores.softmax(dim= -1)\n",
    "    if dropout is not None:\n",
    "        attention_weights = dropout(attention_weights)\n",
    "    return torch.matmul(attention_weights, value), attention_weights\n",
    "\n",
    "class MultiHeadedAttention(nn.Module):\n",
    "    def __init__(self, h, d_model, p_dropout=0.1):\n",
    "        super(MultiHeadedAttention, self).__init__()\n",
    "        self.d_k = d_model//h\n",
    "        self.h = h\n",
    "        self.linears = clones(nn.Linear(d_model, d_model), 4)\n",
    "        self.attn = None\n",
    "        self.dropout = nn.Dropout(p=p_dropout)\n",
    "    \n",
    "    def forward(self, q, k, v, mask=None):\n",
    "        if mask is not None:\n",
    "            mask = mask.unsqueeze(1)\n",
    "        \n",
    "        nbatches = q.size[0]\n",
    "        \n",
    "        # Apply linear layers\n",
    "        q, k, v = [\n",
    "            lin(x).view(n_batches, -1, self.h, self.d_k).transpose(1, 2)\n",
    "            for lin, x in zip(self.linears, (q, k, v))\n",
    "        ]\n",
    "        \n",
    "        # Apply attention\n",
    "        x, self.attn = attention(q, k, v, mask = mask, dropout=self.dropout)\n",
    "        \n",
    "        # Concatenate\n",
    "        x = (x.transpose(1,2).contiguous().view(nbatches, -1, self.h*self.d_k))\n",
    "        del q\n",
    "        del k\n",
    "        del v\n",
    "        return self.linears[-1](x)"
   ]
  },
  {
   "cell_type": "markdown",
   "id": "c7b9603c",
   "metadata": {},
   "source": [
    "## Overall encoder-decoder architecture of Transformer"
   ]
  },
  {
   "cell_type": "code",
   "execution_count": 4,
   "id": "4a31ef43",
   "metadata": {},
   "outputs": [],
   "source": [
    "# Encoder-Decoder\n",
    "class EncoderDecoder(nn.Module):\n",
    "    def __init__(self, encoder, decoder, src_embed, tgt_embed, generator):\n",
    "        super(EncoderDecoder, self).__init__()\n",
    "        self.encoder = encoder\n",
    "        self.decoder = decoder\n",
    "        self.src_embed = src_embed\n",
    "        self.tgt_embed = tgt_embed\n",
    "        self.generator = generator\n",
    "        \n",
    "    def forward(self, src, tgt, src_mask, tgt_mask):\n",
    "        return self.decode(self.encode(src, src_mask), src_mask, tgt, tgt_mask)\n",
    "\n",
    "    def encode(self, src, src_mask):\n",
    "        return self.encoder(self.src_embed(src), src_mask)\n",
    "\n",
    "    def decode(self, memory, src_mask, tgt, tgt_mask):\n",
    "        return self.decoder(self.tgt_embed(tgt), memory, src_mask, tgt_mask)\n",
    "    \n",
    "\n",
    "class Generator(nn.Module):\n",
    "    \"\"\"\n",
    "    MLP and Softmax for the decoder output in transformer architecture\n",
    "    \"\"\"\n",
    "    def __init__(self, d_model, vocab):\n",
    "        super(Generator, self).__init__()\n",
    "        self.proj = nn.Linear(d_model, vocab)\n",
    "        \n",
    "    def forward(self, x):\n",
    "        return log_softmax(self.proj(x), dim= -1)"
   ]
  },
  {
   "cell_type": "markdown",
   "id": "47e78543",
   "metadata": {},
   "source": [
    "## Encoder"
   ]
  },
  {
   "cell_type": "code",
   "execution_count": 5,
   "id": "51320a78",
   "metadata": {},
   "outputs": [],
   "source": [
    "class Encoder(nn.Module):\n",
    "    \"\"\"\n",
    "    Encoder definition with N encoderlayers.\n",
    "    Encoder layer is defined as a seperate module.\n",
    "    \"\"\"\n",
    "    \n",
    "    def __init__(self, layer, N):\n",
    "        super(Encoder, self).__init__()\n",
    "        self.layers = clones(layer, N)\n",
    "        self.norm = LayerNorm(layer.size)\n",
    "        \n",
    "    def forward(self, x, mask):\n",
    "        for layer in self.layers:\n",
    "            x = layer(x, mask)\n",
    "        x = self.norm(x)\n",
    "        return x\n",
    "\n",
    "class EncoderLayer(nn.Module):\n",
    "    \"\"\"\n",
    "    Definition of each Encoder layer i.e., Multi Head Attention and Feed Forward layer.\n",
    "    \"\"\"\n",
    "    \n",
    "    def __init__(self, size, self_attn, feed_forward, p_dropout):\n",
    "        super(EncoderLayer, self).__init__()\n",
    "        self.self_attn = self_attn\n",
    "        self.feed_forward = feed_forward\n",
    "        self.sublayer = clones(SubLayerConnection(size, p_dropout), 2)\n",
    "        self.size = size\n",
    "        \n",
    "    def forward(self, x, mask):\n",
    "        x = self.sublayer[0](x, lambda x: self.self_attn(x, x, x, mask))\n",
    "        x = self.sublayer[1](x, self.feed_forward)\n",
    "        return x\n",
    "    "
   ]
  },
  {
   "cell_type": "markdown",
   "id": "2d6add90",
   "metadata": {},
   "source": [
    "## Deocder"
   ]
  },
  {
   "cell_type": "code",
   "execution_count": 6,
   "id": "917e15fe",
   "metadata": {},
   "outputs": [],
   "source": [
    "class Decoder(nn.Module):\n",
    "    \"\"\"\n",
    "    Decoder definition with N decoder layers\n",
    "    Decoeder layer is defined as a seperate module\n",
    "    \"\"\"\n",
    "    \n",
    "    def __init__(self, layer, N):\n",
    "        super(Decoder, self).__init__()\n",
    "        self.layers = clones(layer, N)\n",
    "        self.norm = LayerNorm(layer.size)\n",
    "        \n",
    "    def forward(self, x, encoder_op, src_mask, tgt_mask):\n",
    "        for layer in self.layers:\n",
    "            x = layer(x, encoder_op, src_mask, tgt_mask)\n",
    "        x = self.norm(x)\n",
    "        return x\n",
    "        \n",
    "class DecoderLayer(nn.Module):\n",
    "    \"\"\"\n",
    "    Definition of each Decoder Layer i.e., two Multi Head Attentions (with and without mask) and Feed Forward layer\n",
    "    \"\"\"\n",
    "    def __init__(self, size, self_attn, feed_forward, src_attn, p_dropout):\n",
    "        super(DecoderLayer, self).__init__()\n",
    "        self.size = size\n",
    "        self.self_attn = self_attn\n",
    "        self.src_attn = src_attn\n",
    "        self.feed_forward = feed_forward\n",
    "        self.sublayer = clones(SubLayerConnection(size, p_dropout), 3)\n",
    "    \n",
    "    def forward(self, x, encoder_op, src_mask, tgt_mask):\n",
    "        x = self.sublayer[0](x, lambda x: self.self_attn(x, x, x, tgt_mask))\n",
    "        x = self.sublayer[1](x, lambda x: self.src_attn(x, encoder_op, encoder_op, src_mask))\n",
    "        x = self.sublayer[2](x, lambda x: self.feed_forward)\n",
    "        return x"
   ]
  },
  {
   "cell_type": "markdown",
   "id": "56dda2c3",
   "metadata": {},
   "source": [
    "## Position wise feed forward"
   ]
  },
  {
   "cell_type": "code",
   "execution_count": 7,
   "id": "d3f2050d",
   "metadata": {},
   "outputs": [],
   "source": [
    "class PositionwiseFeedForward(nn.Module):\n",
    "    \"\"\"\n",
    "    Feed forward layers in encoder and decoder, applied to each position seperately.\n",
    "    \"\"\"\n",
    "    def __init__(self, d_model, d_ff, p_dropout = 0.1):\n",
    "        super(PositionwiseFeedForward, self).__init__()\n",
    "        self.w_1 = nn.Linear(d_model, d_ff)\n",
    "        self.w_2 = nn.Linear(d_ff, d_model)\n",
    "        self.dropout = nn.Dropout(p_dropout)\n",
    "        \n",
    "    def forward(self, x):\n",
    "        return self.w_2(self.dropout(self.w_1(x).relu()))"
   ]
  },
  {
   "cell_type": "markdown",
   "id": "c3482697",
   "metadata": {},
   "source": [
    "## Embeddings and Pos encoding"
   ]
  },
  {
   "cell_type": "code",
   "execution_count": 8,
   "id": "1ed510e4",
   "metadata": {},
   "outputs": [],
   "source": [
    "class Embeddings(nn.Module):\n",
    "    def __init__(self, d_model, vocab):\n",
    "        super(Embeddings, self).__init__()\n",
    "        self.embed = nn.Embedding(vocab, d_model)\n",
    "        self.d_model = d_model\n",
    "        \n",
    "    def forward(self, x):\n",
    "        return self.embed(x) * math.sqrt(self.d_model)"
   ]
  },
  {
   "cell_type": "code",
   "execution_count": 9,
   "id": "8a18ee85",
   "metadata": {},
   "outputs": [],
   "source": [
    "class PositionEncoding(nn.Module):\n",
    "    def __init__(self, d_model, p_dropout, max_len=5000):\n",
    "        super(PositionEncoding, self).__init__()\n",
    "        self.dropout = nn.Dropout(p_dropout)\n",
    "        \n",
    "        pos_embed = torch.zeros(max_len, d_model)\n",
    "        pos = torch.arange(0, max_len).unsqueeze(1)\n",
    "        divider = torch.exp(torch.arange(0, d_model, 2) * (-(math.log(10000.)/d_model)))\n",
    "        \n",
    "        pos_embed[:, 0::2] = torch.sin(pos * divider)        \n",
    "        pos_embed[:, 1::2] = torch.cos(pos * divider)\n",
    "        pos_embed = pos_embed.squeeze(0)\n",
    "        self.register_buffer(\"pos_embed\", pos_embed)\n",
    "        \n",
    "    def forward(self, x):\n",
    "        x += self.pe[:,: x.size(1)].requires_grad_(False)\n",
    "        x = self.dropout(x)\n",
    "        return x"
   ]
  },
  {
   "cell_type": "code",
   "execution_count": 10,
   "id": "65c367f1",
   "metadata": {},
   "outputs": [],
   "source": [
    "def Transformer(src_vocab, tgt_vocab, N=6, d_model=512, h=8, p_dropout=0.1, d_ff=2048):\n",
    "    c = copy.deepcopy\n",
    "    attn = MultiHeadedAttention(h, d_model)\n",
    "    pwff = PositionwiseFeedForward(d_model, d_ff, p_dropout)\n",
    "    pos_embed = PositionEncoding(d_model, p_dropout)\n",
    "    model = EncoderDecoder(\n",
    "        Encoder(EncoderLayer(d_model, c(attn), c(pwff), p_dropout), N),\n",
    "        Decoder(DecoderLayer(d_model, c(attn), c(attn), c(pwff), p_dropout), N),\n",
    "        nn.Sequential(Embeddings(d_model, src_vocab), c(pos_embed)),\n",
    "        nn.Sequential(Embeddings(d_model, tgt_vocab), c(pos_embed)),\n",
    "        Generator(d_model, tgt_vocab),\n",
    "    )\n",
    "    \n",
    "    for p in model.parameters():\n",
    "        if p.dim() > 1:\n",
    "            nn.init.xavier_uniform_(p)\n",
    "    return model"
   ]
  },
  {
   "cell_type": "code",
   "execution_count": 11,
   "id": "196ca411",
   "metadata": {},
   "outputs": [],
   "source": [
    "def inference_test():\n",
    "    test_model = Transformer(11, 11, 2)\n",
    "    test_model.eval()\n",
    "    src = torch.LongTensor([[1, 2, 3, 4, 5, 6, 7, 8, 9, 10]])\n",
    "    src_mask = torch.ones(1, 1, 10)\n",
    "\n",
    "    memory = test_model.encode(src, src_mask)\n",
    "    ys = torch.zeros(1, 1).type_as(src)\n",
    "\n",
    "    for i in range(9):\n",
    "        out = test_model.decode(\n",
    "            memory, src_mask, ys, subsequent_mask(ys.size(1)).type_as(src.data)\n",
    "        )\n",
    "        prob = test_model.generator(out[:, -1])\n",
    "        _, next_word = torch.max(prob, dim=1)\n",
    "        next_word = next_word.data[0]\n",
    "        ys = torch.cat(\n",
    "            [ys, torch.empty(1, 1).type_as(src.data).fill_(next_word)], dim=1\n",
    "        )\n",
    "\n",
    "    print(\"Example Untrained Model Prediction:\", ys)\n",
    "\n",
    "\n",
    "def run_tests():\n",
    "    for _ in range(10):\n",
    "        inference_test()\n",
    "\n",
    "\n",
    "show_example(run_tests)"
   ]
  },
  {
   "cell_type": "code",
   "execution_count": 8,
   "id": "b031d677",
   "metadata": {},
   "outputs": [],
   "source": [
    "def subsequent_mask(size):\n",
    "    \"\"\"\n",
    "    Mask the subsequent positions for the decoder. So it has no glimpse of future\n",
    "    \"\"\"\n",
    "    attn_shape = (1, size, size)\n",
    "    sub_mask = np.triu(np.ones(attn_shape), k=1).astype(np.uint8)\n",
    "    return torch.from_numpy(sub_mask) == 0"
   ]
  },
  {
   "cell_type": "code",
   "execution_count": 11,
   "id": "b3521999",
   "metadata": {},
   "outputs": [
    {
     "data": {
      "image/png": "[encoded data removed]",
      "text/plain": [
       "<Figure size 640x480 with 1 Axes>"
      ]
     },
     "metadata": {},
     "output_type": "display_data"
    }
   ],
   "source": [
    "plt.figure()\n",
    "plt.imshow(subsequent_mask(6)[0])\n",
    "plt.show()"
   ]
  },
  {
   "cell_type": "code",
   "execution_count": 14,
   "id": "0489bd95",
   "metadata": {},
   "outputs": [
    {
     "name": "stdout",
     "output_type": "stream",
     "text": [
      "tensor([[ True, False, False],\n",
      "        [ True,  True, False],\n",
      "        [ True,  True,  True]])\n"
     ]
    }
   ],
   "source": [
    "x = subsequent_mask(3)\n",
    "print(x[0])"
   ]
  },
  {
   "cell_type": "markdown",
   "id": "87726d44",
   "metadata": {},
   "source": [
    "## Training"
   ]
  },
  {
   "cell_type": "code",
   "execution_count": 15,
   "id": "9c03874f",
   "metadata": {},
   "outputs": [],
   "source": [
    "class Batch:\n",
    "    \"\"\"\n",
    "    The object of this class holds the src and target sentences and also constructs the masks.\n",
    "    \"\"\"\n",
    "    def __init__(self, src, tgt = None, pad = 0):\n",
    "        self.src = src\n",
    "        self.src_mask = (src != pad).unsqueeze(-2)\n",
    "        if tgt is not None:\n",
    "            self.tgt = tgt[:, :-1]\n",
    "            self.tgt_y = tgt[:, 1:]\n",
    "            self.tgt_mask = self.mask_std_mask(self.tgt, pad)\n",
    "            self.n_tokens = (self.tgt_y != pad).data.sum()\n",
    "    \n",
    "    @staticmethod\n",
    "    def make_std_mask(tgt, pad):\n",
    "        tgt_mask = (tgt != pad).unsqueeze(-2)\n",
    "        tgt_mask = tgt_mask & Variable(subsequent_mask(tgt.size(-1)).type_as(tgt_mask.data))\n",
    "        return tgt_mask"
   ]
  },
  {
   "cell_type": "code",
   "execution_count": 16,
   "id": "4545538a",
   "metadata": {},
   "outputs": [],
   "source": [
    "# Training loop\n",
    "def run_epoch(iterator, model, loss_fn):\n",
    "    start = time.time()\n",
    "    total_tokens = 0\n",
    "    total_loss = 0\n",
    "    tokens = 0\n",
    "    for i, batch in enumerate(iterator):\n",
    "        y_pred = model.forward(batch.src, batch.tgt,\n",
    "                               batch.src_mask, batch.tgt_mask)\n",
    "        loss = loss_fn(y_pred, batch.tgt_y, batch.n_tokens)\n",
    "        total_loss += loss\n",
    "        total_tokens += batch.n_tokens\n",
    "        tokens += batch.n_tokens\n",
    "        if i%50 == 1:\n",
    "            elapsed = time.time()-start\n",
    "            print(\"Epoch: %d, Loss: %f, Tokens pro sec: %f\" %(i, loss/batch.n_tokens, tokens/elapsed))\n",
    "            start = time.time()\n",
    "            tokens = 0\n",
    "    return total_loss/total_tokens"
   ]
  },
  {
   "cell_type": "code",
   "execution_count": null,
   "id": "a725e263",
   "metadata": {},
   "outputs": [],
   "source": []
  }
 ],
 "metadata": {
  "kernelspec": {
   "display_name": "Python 3 (ipykernel)",
   "language": "python",
   "name": "python3"
  },
  "language_info": {
   "codemirror_mode": {
    "name": "ipython",
    "version": 3
   },
   "file_extension": ".py",
   "mimetype": "text/x-python",
   "name": "python",
   "nbconvert_exporter": "python",
   "pygments_lexer": "ipython3",
   "version": "3.10.10"
  }
 },
 "nbformat": 4,
 "nbformat_minor": 5
}
